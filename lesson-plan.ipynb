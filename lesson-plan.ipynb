{
 "cells": [
  {
   "cell_type": "markdown",
   "metadata": {},
   "source": [
    "### Questions\n",
    "- Setting up VSCode\n",
    "- Webscraping???\n",
    "    - Selenium"
   ]
  },
  {
   "cell_type": "markdown",
   "metadata": {},
   "source": [
    "### Objectives\n",
    "YWBAT \n",
    "* Explain 'having' in sql\n",
    "* Explain when to use 'having' vs other sql keywords\n",
    "* Apply Selenium to scrape some data"
   ]
  },
  {
   "cell_type": "markdown",
   "metadata": {},
   "source": [
    "### Outline"
   ]
  },
  {
   "cell_type": "code",
   "execution_count": 4,
   "metadata": {},
   "outputs": [],
   "source": [
    "import requests\n",
    "\n",
    "import pandas as pd\n",
    "import numpy as np\n",
    "\n",
    "from bs4 import BeautifulSoup\n",
    "\n",
    "import matplotlib.pyplot as plt"
   ]
  },
  {
   "cell_type": "markdown",
   "metadata": {},
   "source": [
    "### What is Selenium\n",
    "- It's a scraping tool that opens a browser and acts like a human\n",
    "- Pros:\n",
    "    - get past bot detection\n",
    "    - interact with javascript\n",
    "- Cons:\n",
    "    - Because it opens a browser, you need to make sure it's running on a system with a monitor\n",
    "    - A steep learning curve\n",
    "\n",
    "### Setting Up Selenium\n",
    "- install ChromeDriver make sure the versions are compatible\n",
    "- find a tutorial\n"
   ]
  },
  {
   "cell_type": "code",
   "execution_count": 64,
   "metadata": {},
   "outputs": [],
   "source": [
    "from selenium import webdriver \n",
    "from selenium.webdriver.common.by import By \n",
    "from selenium.webdriver.support.ui import WebDriverWait \n",
    "from selenium.webdriver.support import expected_conditions as EC \n",
    "from selenium.common.exceptions import TimeoutException\n",
    "import time"
   ]
  },
  {
   "cell_type": "code",
   "execution_count": 59,
   "metadata": {},
   "outputs": [],
   "source": [
    "option = webdriver.ChromeOptions()\n",
    "option.add_argument(\"--incognito\")\n",
    "browser = webdriver.Chrome(executable_path=\"/Users/rafael/Downloads/chromedriver\")"
   ]
  },
  {
   "cell_type": "code",
   "execution_count": 60,
   "metadata": {},
   "outputs": [],
   "source": [
    "browser.get(\"https://www.amazon.com/s?k=oneplus+7t&ref=nb_sb_noss_1\")"
   ]
  },
  {
   "cell_type": "markdown",
   "metadata": {},
   "source": [
    "### Clicking Prime Box"
   ]
  },
  {
   "cell_type": "code",
   "execution_count": 61,
   "metadata": {},
   "outputs": [],
   "source": [
    "checkbox_container = browser.find_element_by_id(\"primeRefinements\")"
   ]
  },
  {
   "cell_type": "code",
   "execution_count": 62,
   "metadata": {},
   "outputs": [],
   "source": [
    "checkbox_container.find_element_by_class_name(\"a-checkbox\").click()"
   ]
  },
  {
   "cell_type": "markdown",
   "metadata": {},
   "source": [
    "### Selecting Review Filter"
   ]
  },
  {
   "cell_type": "code",
   "execution_count": 63,
   "metadata": {},
   "outputs": [],
   "source": [
    "review_filter_container = browser.find_element_by_id(\"reviewsRefinements\")"
   ]
  },
  {
   "cell_type": "code",
   "execution_count": 72,
   "metadata": {},
   "outputs": [
    {
     "ename": "StaleElementReferenceException",
     "evalue": "Message: stale element reference: element is not attached to the page document\n  (Session info: chrome=77.0.3865.90)\n",
     "output_type": "error",
     "traceback": [
      "\u001b[0;31m-----------------------------------------------\u001b[0m",
      "\u001b[0;31mStaleElementReferenceException\u001b[0mTraceback (most recent call last)",
      "\u001b[0;32m<ipython-input-72-d7b94fdc565e>\u001b[0m in \u001b[0;36m<module>\u001b[0;34m\u001b[0m\n\u001b[0;32m----> 1\u001b[0;31m \u001b[0mreview_filter_container\u001b[0m\u001b[0;34m.\u001b[0m\u001b[0mfind_element_by_class_name\u001b[0m\u001b[0;34m(\u001b[0m\u001b[0;34m\"a-unordered-list\"\u001b[0m\u001b[0;34m)\u001b[0m\u001b[0;34m\u001b[0m\u001b[0m\n\u001b[0m",
      "\u001b[0;32m~/anaconda3/envs/flatiron-env/lib/python3.6/site-packages/selenium/webdriver/remote/webelement.py\u001b[0m in \u001b[0;36mfind_element_by_class_name\u001b[0;34m(self, name)\u001b[0m\n\u001b[1;32m    396\u001b[0m             \u001b[0melement\u001b[0m \u001b[0;34m=\u001b[0m \u001b[0melement\u001b[0m\u001b[0;34m.\u001b[0m\u001b[0mfind_element_by_class_name\u001b[0m\u001b[0;34m(\u001b[0m\u001b[0;34m'foo'\u001b[0m\u001b[0;34m)\u001b[0m\u001b[0;34m\u001b[0m\u001b[0m\n\u001b[1;32m    397\u001b[0m         \"\"\"\n\u001b[0;32m--> 398\u001b[0;31m         \u001b[0;32mreturn\u001b[0m \u001b[0mself\u001b[0m\u001b[0;34m.\u001b[0m\u001b[0mfind_element\u001b[0m\u001b[0;34m(\u001b[0m\u001b[0mby\u001b[0m\u001b[0;34m=\u001b[0m\u001b[0mBy\u001b[0m\u001b[0;34m.\u001b[0m\u001b[0mCLASS_NAME\u001b[0m\u001b[0;34m,\u001b[0m \u001b[0mvalue\u001b[0m\u001b[0;34m=\u001b[0m\u001b[0mname\u001b[0m\u001b[0;34m)\u001b[0m\u001b[0;34m\u001b[0m\u001b[0m\n\u001b[0m\u001b[1;32m    399\u001b[0m \u001b[0;34m\u001b[0m\u001b[0m\n\u001b[1;32m    400\u001b[0m     \u001b[0;32mdef\u001b[0m \u001b[0mfind_elements_by_class_name\u001b[0m\u001b[0;34m(\u001b[0m\u001b[0mself\u001b[0m\u001b[0;34m,\u001b[0m \u001b[0mname\u001b[0m\u001b[0;34m)\u001b[0m\u001b[0;34m:\u001b[0m\u001b[0;34m\u001b[0m\u001b[0m\n",
      "\u001b[0;32m~/anaconda3/envs/flatiron-env/lib/python3.6/site-packages/selenium/webdriver/remote/webelement.py\u001b[0m in \u001b[0;36mfind_element\u001b[0;34m(self, by, value)\u001b[0m\n\u001b[1;32m    657\u001b[0m \u001b[0;34m\u001b[0m\u001b[0m\n\u001b[1;32m    658\u001b[0m         return self._execute(Command.FIND_CHILD_ELEMENT,\n\u001b[0;32m--> 659\u001b[0;31m                              {\"using\": by, \"value\": value})['value']\n\u001b[0m\u001b[1;32m    660\u001b[0m \u001b[0;34m\u001b[0m\u001b[0m\n\u001b[1;32m    661\u001b[0m     \u001b[0;32mdef\u001b[0m \u001b[0mfind_elements\u001b[0m\u001b[0;34m(\u001b[0m\u001b[0mself\u001b[0m\u001b[0;34m,\u001b[0m \u001b[0mby\u001b[0m\u001b[0;34m=\u001b[0m\u001b[0mBy\u001b[0m\u001b[0;34m.\u001b[0m\u001b[0mID\u001b[0m\u001b[0;34m,\u001b[0m \u001b[0mvalue\u001b[0m\u001b[0;34m=\u001b[0m\u001b[0;32mNone\u001b[0m\u001b[0;34m)\u001b[0m\u001b[0;34m:\u001b[0m\u001b[0;34m\u001b[0m\u001b[0m\n",
      "\u001b[0;32m~/anaconda3/envs/flatiron-env/lib/python3.6/site-packages/selenium/webdriver/remote/webelement.py\u001b[0m in \u001b[0;36m_execute\u001b[0;34m(self, command, params)\u001b[0m\n\u001b[1;32m    631\u001b[0m             \u001b[0mparams\u001b[0m \u001b[0;34m=\u001b[0m \u001b[0;34m{\u001b[0m\u001b[0;34m}\u001b[0m\u001b[0;34m\u001b[0m\u001b[0m\n\u001b[1;32m    632\u001b[0m         \u001b[0mparams\u001b[0m\u001b[0;34m[\u001b[0m\u001b[0;34m'id'\u001b[0m\u001b[0;34m]\u001b[0m \u001b[0;34m=\u001b[0m \u001b[0mself\u001b[0m\u001b[0;34m.\u001b[0m\u001b[0m_id\u001b[0m\u001b[0;34m\u001b[0m\u001b[0m\n\u001b[0;32m--> 633\u001b[0;31m         \u001b[0;32mreturn\u001b[0m \u001b[0mself\u001b[0m\u001b[0;34m.\u001b[0m\u001b[0m_parent\u001b[0m\u001b[0;34m.\u001b[0m\u001b[0mexecute\u001b[0m\u001b[0;34m(\u001b[0m\u001b[0mcommand\u001b[0m\u001b[0;34m,\u001b[0m \u001b[0mparams\u001b[0m\u001b[0;34m)\u001b[0m\u001b[0;34m\u001b[0m\u001b[0m\n\u001b[0m\u001b[1;32m    634\u001b[0m \u001b[0;34m\u001b[0m\u001b[0m\n\u001b[1;32m    635\u001b[0m     \u001b[0;32mdef\u001b[0m \u001b[0mfind_element\u001b[0m\u001b[0;34m(\u001b[0m\u001b[0mself\u001b[0m\u001b[0;34m,\u001b[0m \u001b[0mby\u001b[0m\u001b[0;34m=\u001b[0m\u001b[0mBy\u001b[0m\u001b[0;34m.\u001b[0m\u001b[0mID\u001b[0m\u001b[0;34m,\u001b[0m \u001b[0mvalue\u001b[0m\u001b[0;34m=\u001b[0m\u001b[0;32mNone\u001b[0m\u001b[0;34m)\u001b[0m\u001b[0;34m:\u001b[0m\u001b[0;34m\u001b[0m\u001b[0m\n",
      "\u001b[0;32m~/anaconda3/envs/flatiron-env/lib/python3.6/site-packages/selenium/webdriver/remote/webdriver.py\u001b[0m in \u001b[0;36mexecute\u001b[0;34m(self, driver_command, params)\u001b[0m\n\u001b[1;32m    319\u001b[0m         \u001b[0mresponse\u001b[0m \u001b[0;34m=\u001b[0m \u001b[0mself\u001b[0m\u001b[0;34m.\u001b[0m\u001b[0mcommand_executor\u001b[0m\u001b[0;34m.\u001b[0m\u001b[0mexecute\u001b[0m\u001b[0;34m(\u001b[0m\u001b[0mdriver_command\u001b[0m\u001b[0;34m,\u001b[0m \u001b[0mparams\u001b[0m\u001b[0;34m)\u001b[0m\u001b[0;34m\u001b[0m\u001b[0m\n\u001b[1;32m    320\u001b[0m         \u001b[0;32mif\u001b[0m \u001b[0mresponse\u001b[0m\u001b[0;34m:\u001b[0m\u001b[0;34m\u001b[0m\u001b[0m\n\u001b[0;32m--> 321\u001b[0;31m             \u001b[0mself\u001b[0m\u001b[0;34m.\u001b[0m\u001b[0merror_handler\u001b[0m\u001b[0;34m.\u001b[0m\u001b[0mcheck_response\u001b[0m\u001b[0;34m(\u001b[0m\u001b[0mresponse\u001b[0m\u001b[0;34m)\u001b[0m\u001b[0;34m\u001b[0m\u001b[0m\n\u001b[0m\u001b[1;32m    322\u001b[0m             response['value'] = self._unwrap_value(\n\u001b[1;32m    323\u001b[0m                 response.get('value', None))\n",
      "\u001b[0;32m~/anaconda3/envs/flatiron-env/lib/python3.6/site-packages/selenium/webdriver/remote/errorhandler.py\u001b[0m in \u001b[0;36mcheck_response\u001b[0;34m(self, response)\u001b[0m\n\u001b[1;32m    240\u001b[0m                 \u001b[0malert_text\u001b[0m \u001b[0;34m=\u001b[0m \u001b[0mvalue\u001b[0m\u001b[0;34m[\u001b[0m\u001b[0;34m'alert'\u001b[0m\u001b[0;34m]\u001b[0m\u001b[0;34m.\u001b[0m\u001b[0mget\u001b[0m\u001b[0;34m(\u001b[0m\u001b[0;34m'text'\u001b[0m\u001b[0;34m)\u001b[0m\u001b[0;34m\u001b[0m\u001b[0m\n\u001b[1;32m    241\u001b[0m             \u001b[0;32mraise\u001b[0m \u001b[0mexception_class\u001b[0m\u001b[0;34m(\u001b[0m\u001b[0mmessage\u001b[0m\u001b[0;34m,\u001b[0m \u001b[0mscreen\u001b[0m\u001b[0;34m,\u001b[0m \u001b[0mstacktrace\u001b[0m\u001b[0;34m,\u001b[0m \u001b[0malert_text\u001b[0m\u001b[0;34m)\u001b[0m\u001b[0;34m\u001b[0m\u001b[0m\n\u001b[0;32m--> 242\u001b[0;31m         \u001b[0;32mraise\u001b[0m \u001b[0mexception_class\u001b[0m\u001b[0;34m(\u001b[0m\u001b[0mmessage\u001b[0m\u001b[0;34m,\u001b[0m \u001b[0mscreen\u001b[0m\u001b[0;34m,\u001b[0m \u001b[0mstacktrace\u001b[0m\u001b[0;34m)\u001b[0m\u001b[0;34m\u001b[0m\u001b[0m\n\u001b[0m\u001b[1;32m    243\u001b[0m \u001b[0;34m\u001b[0m\u001b[0m\n\u001b[1;32m    244\u001b[0m     \u001b[0;32mdef\u001b[0m \u001b[0m_value_or_default\u001b[0m\u001b[0;34m(\u001b[0m\u001b[0mself\u001b[0m\u001b[0;34m,\u001b[0m \u001b[0mobj\u001b[0m\u001b[0;34m,\u001b[0m \u001b[0mkey\u001b[0m\u001b[0;34m,\u001b[0m \u001b[0mdefault\u001b[0m\u001b[0;34m)\u001b[0m\u001b[0;34m:\u001b[0m\u001b[0;34m\u001b[0m\u001b[0m\n",
      "\u001b[0;31mStaleElementReferenceException\u001b[0m: Message: stale element reference: element is not attached to the page document\n  (Session info: chrome=77.0.3865.90)\n"
     ]
    }
   ],
   "source": [
    "review_filter_container.find_element_by_class_name(\"a-unordered-list\")"
   ]
  },
  {
   "cell_type": "code",
   "execution_count": null,
   "metadata": {},
   "outputs": [],
   "source": []
  },
  {
   "cell_type": "code",
   "execution_count": null,
   "metadata": {},
   "outputs": [],
   "source": []
  },
  {
   "cell_type": "code",
   "execution_count": null,
   "metadata": {},
   "outputs": [],
   "source": []
  },
  {
   "cell_type": "code",
   "execution_count": 33,
   "metadata": {},
   "outputs": [
    {
     "name": "stdout",
     "output_type": "stream",
     "text": [
      "https://www.amazon.com/s?k=oneplus+7t&ref=nb_sb_noss_1#s-skipLinkTargetForMainSearchResults\n",
      "https://www.amazon.com/s?k=oneplus+7t&rh=p_85%3A2470955011&dc&qid=1570646486&rnid=2470954011&ref=sr_nr_p_85_1\n",
      "https://www.amazon.com/s?k=oneplus+7t&rh=p_90%3A8308921011&dc&qid=1570646486&rnid=8308919011&ref=sr_nr_p_90_1\n",
      "https://www.amazon.com/s?k=oneplus+7t&rh=p_76%3A2661625011&dc&qid=1570646486&rnid=2661623011&ref=sr_nr_p_76_1\n",
      "https://www.amazon.com/s?k=oneplus+7t&rh=n%3A2335752011&dc&qid=1570646486&rnid=2941120011&ref=sr_nr_n_1\n",
      "https://www.amazon.com/s?k=oneplus+7t&rh=n%3A2335752011%2Cn%3A2407774011&dc&qid=1570646486&rnid=2941120011&ref=sr_nr_n_2\n",
      "https://www.amazon.com/s?k=oneplus+7t&rh=n%3A2335752011%2Cn%3A2407781011&dc&qid=1570646486&rnid=2941120011&ref=sr_nr_n_3\n",
      "https://www.amazon.com/s?k=oneplus+7t&rh=n%3A2335752011%2Cn%3A2407765011&dc&qid=1570646486&rnid=2941120011&ref=sr_nr_n_4\n",
      "https://www.amazon.com/s?k=oneplus+7t&rh=n%3A2335752011%2Cn%3A9931389011&dc&qid=1570646486&rnid=2941120011&ref=sr_nr_n_5\n",
      "https://www.amazon.com/s?k=oneplus+7t&rh=n%3A2335752011%2Cn%3A2407756011&dc&qid=1570646486&rnid=2941120011&ref=sr_nr_n_6\n",
      "https://www.amazon.com/s?k=oneplus+7t&rh=n%3A2335752011%2Cn%3A17875443011&dc&qid=1570646486&rnid=2941120011&ref=sr_nr_n_7\n",
      "https://www.amazon.com/s?k=oneplus+7t&rh=n%3A2335752011%2Cn%3A12557637011&dc&qid=1570646486&rnid=2941120011&ref=sr_nr_n_8\n",
      "https://www.amazon.com/s?k=oneplus+7t&rh=n%3A172282&dc&qid=1570646486&rnid=2941120011&ref=sr_nr_n_9\n",
      "https://www.amazon.com/s?k=oneplus+7t&rh=n%3A172282%2Cn%3A12097478011&dc&qid=1570646486&rnid=2941120011&ref=sr_nr_n_10\n",
      "https://www.amazon.com/s?k=oneplus+7t&rh=n%3A172282%2Cn%3A2267280011&dc&qid=1570646486&rnid=2941120011&ref=sr_nr_n_11\n",
      "https://www.amazon.com/s?k=oneplus+7t&rh=n%3A541966&dc&qid=1570646486&rnid=2941120011&ref=sr_nr_n_12\n",
      "https://www.amazon.com/s?k=oneplus+7t&rh=n%3A541966%2Cn%3A2348629011&dc&qid=1570646486&rnid=2941120011&ref=sr_nr_n_13\n",
      "https://www.amazon.com/s?k=oneplus+7t&i=automotive&dc&qid=1570646486&ref=sr_nr_i_14\n",
      "https://www.amazon.com/s?k=oneplus+7t&i=industrial&dc&qid=1570646486&ref=sr_nr_i_15\n",
      "https://www.amazon.com/s?k=oneplus+7t&rh=p_72%3A2661618011&dc&qid=1570646486&rnid=2661617011&ref=sr_nr_p_72_1\n",
      "https://www.amazon.com/s?k=oneplus+7t&rh=p_72%3A2661619011&dc&qid=1570646486&rnid=2661617011&ref=sr_nr_p_72_2\n",
      "https://www.amazon.com/s?k=oneplus+7t&rh=p_72%3A2661620011&dc&qid=1570646486&rnid=2661617011&ref=sr_nr_p_72_3\n",
      "https://www.amazon.com/s?k=oneplus+7t&rh=p_72%3A2661621011&dc&qid=1570646486&rnid=2661617011&ref=sr_nr_p_72_4\n",
      "https://www.amazon.com/s?k=oneplus+7t&rh=p_89%3AAGOZ&dc&qid=1570646486&rnid=2528832011&ref=sr_nr_p_89_1\n",
      "https://www.amazon.com/s?k=oneplus+7t&rh=p_89%3ATITACUTE&dc&qid=1570646486&rnid=2528832011&ref=sr_nr_p_89_2\n",
      "https://www.amazon.com/s?k=oneplus+7t&rh=p_89%3AJiunai&dc&qid=1570646486&rnid=2528832011&ref=sr_nr_p_89_3\n",
      "https://www.amazon.com/s?k=oneplus+7t&rh=p_89%3AJelanry&dc&qid=1570646486&rnid=2528832011&ref=sr_nr_p_89_4\n",
      "https://www.amazon.com/s?k=oneplus+7t&rh=p_89%3AIVSO&dc&qid=1570646486&rnid=2528832011&ref=sr_nr_p_89_5\n",
      "https://www.amazon.com/s?k=oneplus+7t&rh=p_89%3ASupershieldz&dc&qid=1570646486&rnid=2528832011&ref=sr_nr_p_89_6\n",
      "https://www.amazon.com/s?k=oneplus+7t&rh=p_89%3ASLEO&dc&qid=1570646486&rnid=2528832011&ref=sr_nr_p_89_7\n",
      "https://www.amazon.com/s?k=oneplus+7t&rh=p_89%3ALankXin&dc&qid=1570646486&rnid=2528832011&ref=sr_nr_p_89_8\n",
      "https://www.amazon.com/s?k=oneplus+7t&rh=p_89%3ATamoria&dc&qid=1570646486&rnid=2528832011&ref=sr_nr_p_89_9\n",
      "https://www.amazon.com/s?k=oneplus+7t&rh=p_89%3ACOOYA&dc&qid=1570646486&rnid=2528832011&ref=sr_nr_p_89_10\n",
      "https://www.amazon.com/s?k=oneplus+7t&rh=p_89%3AIFCASE&dc&qid=1570646486&rnid=2528832011&ref=sr_nr_p_89_11\n",
      "https://www.amazon.com/s?k=oneplus+7t&rh=p_89%3AiMangoo&dc&qid=1570646486&rnid=2528832011&ref=sr_nr_p_89_12\n",
      "https://www.amazon.com/s?k=oneplus+7t&rh=p_n_feature_nine_browse-bin%3A15284134011&dc&qid=1570646486&rnid=2488708011&ref=sr_nr_p_n_feature_nine_browse-bin_4\n",
      "https://www.amazon.com/s?k=oneplus+7t&rh=p_n_feature_nine_browse-bin%3A10030581011&dc&qid=1570646486&rnid=2488708011&ref=sr_nr_p_n_feature_nine_browse-bin_6\n",
      "https://www.amazon.com/s?k=oneplus+7t&rh=p_n_feature_nine_browse-bin%3A7079349011&dc&qid=1570646486&rnid=2488708011&ref=sr_nr_p_n_feature_nine_browse-bin_8\n",
      "https://www.amazon.com/s?k=oneplus+7t&rh=n%3A2407760011%2Cp_n_feature_four_browse-bin%3A17875444011&dc&qid=1570646486&rnid=11269698011&ref=sr_nr_p_n_feature_four_browse-bin_1\n",
      "https://www.amazon.com/s?k=oneplus+7t&rh=n%3A2407760011%2Cp_n_feature_four_browse-bin%3A11269700011&dc&qid=1570646486&rnid=11269698011&ref=sr_nr_p_n_feature_four_browse-bin_2\n",
      "https://www.amazon.com/s?k=oneplus+7t&rh=n%3A2407760011%2Cp_n_feature_four_browse-bin%3A17875446011&dc&qid=1570646486&rnid=11269698011&ref=sr_nr_p_n_feature_four_browse-bin_3\n",
      "https://www.amazon.com/s?k=oneplus+7t&rh=n%3A2407760011%2Cp_n_feature_ten_browse-bin%3A17731926011&dc&qid=1570646486&rnid=11043306011&ref=sr_nr_p_n_feature_ten_browse-bin_1\n",
      "https://www.amazon.com/s?k=oneplus+7t&rh=n%3A2407760011%2Cp_n_feature_ten_browse-bin%3A17731933011&dc&qid=1570646486&rnid=11043306011&ref=sr_nr_p_n_feature_ten_browse-bin_2\n",
      "https://www.amazon.com/s?k=oneplus+7t&rh=n%3A2407760011%2Cp_n_feature_ten_browse-bin%3A17731930011&dc&qid=1570646486&rnid=11043306011&ref=sr_nr_p_n_feature_ten_browse-bin_3\n",
      "https://www.amazon.com/s?k=oneplus+7t&rh=n%3A2407760011%2Cp_n_feature_ten_browse-bin%3A11043312011&dc&qid=1570646486&rnid=11043306011&ref=sr_nr_p_n_feature_ten_browse-bin_4\n",
      "https://www.amazon.com/s?k=oneplus+7t&rh=n%3A172541%2Cp_n_feature_two_browse-bin%3A2266981011&dc&qid=1570646486&rnid=2266979011&ref=sr_nr_p_n_feature_two_browse-bin_1\n",
      "https://www.amazon.com/s?k=oneplus+7t&rh=n%3A172541%2Cp_n_feature_two_browse-bin%3A12097494011&dc&qid=1570646486&rnid=2266979011&ref=sr_nr_p_n_feature_two_browse-bin_2\n",
      "https://www.amazon.com/s?k=oneplus+7t&rh=n%3A172541%2Cp_n_feature_two_browse-bin%3A509318&dc&qid=1570646486&rnid=2266979011&ref=sr_nr_p_n_feature_two_browse-bin_3\n",
      "https://www.amazon.com/s?k=oneplus+7t&rh=n%3A172541%2Cp_n_feature_two_browse-bin%3A509316&dc&qid=1570646486&rnid=2266979011&ref=sr_nr_p_n_feature_two_browse-bin_4\n",
      "https://www.amazon.com/s?k=oneplus+7t&rh=n%3A172541%2Cp_n_feature_four_browse-bin%3A12097501011&dc&qid=1570646486&rnid=12097500011&ref=sr_nr_p_n_feature_four_browse-bin_1\n",
      "https://www.amazon.com/s?k=oneplus+7t&rh=n%3A541966%2Cp_n_size_browse-bin%3A7817238011&dc&qid=1570646486&rnid=1254615011&ref=sr_nr_p_n_size_browse-bin_4\n",
      "https://www.amazon.com/s?k=oneplus+7t&rh=p_n_shipping_option-bin%3A3242350011&dc&qid=1570646486&rnid=2944662011&ref=sr_nr_p_n_shipping_option-bin_1\n",
      "https://www.amazon.com/s?k=oneplus+7t&rh=p_n_condition-type%3A6461716011&dc&qid=1570646486&rnid=6461714011&ref=sr_nr_p_n_condition-type_1\n",
      "https://www.amazon.com/s?k=oneplus+7t&rh=p_n_condition-type%3A6461718011&dc&qid=1570646486&rnid=6461714011&ref=sr_nr_p_n_condition-type_2\n",
      "https://www.amazon.com/OnePlus-GM1900-Unlocked-International-Warranty/dp/B07RFWG93C/ref=sr_1_1?keywords=oneplus+7t&qid=1570646486&sr=8-1\n",
      "https://www.amazon.com/OnePlus-GM1900-Unlocked-International-Warranty/dp/B07RFWG93C/ref=sr_1_1?keywords=oneplus+7t&qid=1570646486&sr=8-1\n",
      "https://www.amazon.com/OnePlus-GM1900-Unlocked-International-Warranty/dp/B07RFWG93C/ref=sr_1_1?keywords=oneplus+7t&qid=1570646486&sr=8-1#customerReviews\n",
      "https://www.amazon.com/OnePlus-GM1900-Unlocked-International-Warranty/dp/B07RFWG93C/ref=sr_1_1?keywords=oneplus+7t&qid=1570646486&sr=8-1\n",
      "https://www.amazon.com/gp/offer-listing/B07RFWG93C\n",
      "https://www.amazon.com/Oneplus-GM1910-Unlocked-International-Warranty/dp/B07SD7Z3J7/ref=sr_1_2?keywords=oneplus+7t&qid=1570646486&sr=8-2\n",
      "https://www.amazon.com/Oneplus-GM1910-Unlocked-International-Warranty/dp/B07SD7Z3J7/ref=sr_1_2?keywords=oneplus+7t&qid=1570646486&sr=8-2\n",
      "https://www.amazon.com/Oneplus-GM1910-Unlocked-International-Warranty/dp/B07SD7Z3J7/ref=sr_1_2?keywords=oneplus+7t&qid=1570646486&sr=8-2#customerReviews\n",
      "https://www.amazon.com/Oneplus-GM1910-Unlocked-International-Warranty/dp/B07SD7Z3J7/ref=sr_1_2?keywords=oneplus+7t&qid=1570646486&sr=8-2\n",
      "https://www.amazon.com/gp/offer-listing/B07SD7Z3J7\n",
      "https://www.amazon.com/Google-Pixel-Memory-Unlocked-Clearly/dp/B07R9PTDTZ/ref=sr_1_3?keywords=oneplus+7t&qid=1570646486&sr=8-3\n",
      "https://www.amazon.com/Google-Pixel-Memory-Unlocked-Clearly/dp/B07R9PTDTZ/ref=sr_1_3?keywords=oneplus+7t&qid=1570646486&sr=8-3\n",
      "https://www.amazon.com/Google-Pixel-Memory-Unlocked-Clearly/dp/B07R9PTDTZ/ref=sr_1_3?keywords=oneplus+7t&qid=1570646486&sr=8-3#customerReviews\n",
      "https://www.amazon.com/Google-Pixel-Memory-Unlocked-Clearly/dp/B07R9PTDTZ/ref=sr_1_3?keywords=oneplus+7t&qid=1570646486&sr=8-3\n",
      "https://www.amazon.com/gp/offer-listing/B07R9PTDTZ\n"
     ]
    },
    {
     "name": "stdout",
     "output_type": "stream",
     "text": [
      "https://www.amazon.com/OnePlus-A6013-128GB-Mirror-Black/dp/B07V3TL48P/ref=sr_1_4?keywords=oneplus+7t&qid=1570646486&sr=8-4\n",
      "https://www.amazon.com/OnePlus-A6013-128GB-Mirror-Black/dp/B07V3TL48P/ref=sr_1_4?keywords=oneplus+7t&qid=1570646486&sr=8-4\n",
      "https://www.amazon.com/OnePlus-A6013-128GB-Mirror-Black/dp/B07V3TL48P/ref=sr_1_4?keywords=oneplus+7t&qid=1570646486&sr=8-4#customerReviews\n",
      "https://www.amazon.com/OnePlus-A6013-128GB-Mirror-Black/dp/B07V3TL48P/ref=sr_1_4?keywords=oneplus+7t&qid=1570646486&sr=8-4\n",
      "https://www.amazon.com/OnePlus-Unlocked-International-Warranty-Mirror/dp/B07L395DB4/ref=sr_1_5?keywords=oneplus+7t&qid=1570646486&sr=8-5\n",
      "https://www.amazon.com/OnePlus-Unlocked-International-Warranty-Mirror/dp/B07L395DB4/ref=sr_1_5?keywords=oneplus+7t&qid=1570646486&sr=8-5\n",
      "https://www.amazon.com/OnePlus-Unlocked-International-Warranty-Mirror/dp/B07L395DB4/ref=sr_1_5?keywords=oneplus+7t&qid=1570646486&sr=8-5#customerReviews\n",
      "https://www.amazon.com/OnePlus-Unlocked-International-Warranty-Mirror/dp/B07L395DB4/ref=sr_1_5?keywords=oneplus+7t&qid=1570646486&sr=8-5\n",
      "https://www.amazon.com/gp/offer-listing/B07L395DB4\n",
      "https://www.amazon.com/OnePlus-Factory-Unlocked-Verizon-Tmobile/dp/B07RCXCPV5/ref=sr_1_6?keywords=oneplus+7t&qid=1570646486&sr=8-6\n",
      "https://www.amazon.com/OnePlus-Factory-Unlocked-Verizon-Tmobile/dp/B07RCXCPV5/ref=sr_1_6?keywords=oneplus+7t&qid=1570646486&sr=8-6\n",
      "https://www.amazon.com/OnePlus-Factory-Unlocked-Verizon-Tmobile/dp/B07RCXCPV5/ref=sr_1_6?keywords=oneplus+7t&qid=1570646486&sr=8-6#customerReviews\n",
      "https://www.amazon.com/OnePlus-Factory-Unlocked-Verizon-Tmobile/dp/B07RCXCPV5/ref=sr_1_6?keywords=oneplus+7t&qid=1570646486&sr=8-6\n",
      "https://www.amazon.com/OnePlus-Storage-Memory-Display-Android/dp/B07RYBGNDQ/ref=sr_1_7?keywords=oneplus+7t&qid=1570646486&sr=8-7\n",
      "https://www.amazon.com/OnePlus-Storage-Memory-Display-Android/dp/B07RYBGNDQ/ref=sr_1_7?keywords=oneplus+7t&qid=1570646486&sr=8-7\n",
      "https://www.amazon.com/OnePlus-Storage-Memory-Display-Android/dp/B07RYBGNDQ/ref=sr_1_7?keywords=oneplus+7t&qid=1570646486&sr=8-7#customerReviews\n",
      "https://www.amazon.com/OnePlus-Storage-Memory-Display-Android/dp/B07RYBGNDQ/ref=sr_1_7?keywords=oneplus+7t&qid=1570646486&sr=8-7\n",
      "https://www.amazon.com/OnePlus-A6013-128GB-Mirror-Black/dp/B07PQSYGKB/ref=sr_1_8?keywords=oneplus+7t&qid=1570646486&sr=8-8\n",
      "https://www.amazon.com/OnePlus-A6013-128GB-Mirror-Black/dp/B07PQSYGKB/ref=sr_1_8?keywords=oneplus+7t&qid=1570646486&sr=8-8\n",
      "https://www.amazon.com/OnePlus-A6013-128GB-Mirror-Black/dp/B07PQSYGKB/ref=sr_1_8?keywords=oneplus+7t&qid=1570646486&sr=8-8#customerReviews\n",
      "https://www.amazon.com/OnePlus-A6013-128GB-Mirror-Black/dp/B07PQSYGKB/ref=sr_1_8?keywords=oneplus+7t&qid=1570646486&sr=8-8\n",
      "https://www.amazon.com/gp/slredirect/picassoRedirect.html/ref=pa_sp_mtf_aps_sr_pg1_1?ie=UTF8&adId=A080421727U4LF9HH4QHU&url=%2FColorful-OnePlus-Ultra-Thin-Premium-Material%2Fdp%2FB07XXRZFL8%2Fref%3Dsr_1_9_sspa%3Fkeywords%3Doneplus%2B7t%26qid%3D1570646486%26sr%3D8-9-spons%26psc%3D1&qualifier=1570646485&id=8566210519729588&widgetName=sp_mtf\n",
      "https://advertising.amazon.com/products-self-serve?ref_=ext_amzn_wtsp\n",
      "https://www.amazon.com/s?k=oneplus+7t&ref=nb_sb_noss_1#\n",
      "https://www.amazon.com/gp/slredirect/picassoRedirect.html/ref=pa_sp_mtf_aps_sr_pg1_1?ie=UTF8&adId=A080421727U4LF9HH4QHU&url=%2FColorful-OnePlus-Ultra-Thin-Premium-Material%2Fdp%2FB07XXRZFL8%2Fref%3Dsr_1_9_sspa%3Fkeywords%3Doneplus%2B7t%26qid%3D1570646486%26sr%3D8-9-spons%26psc%3D1&qualifier=1570646485&id=8566210519729588&widgetName=sp_mtf\n",
      "https://www.amazon.com/gp/slredirect/picassoRedirect.html/ref=pa_sp_mtf_aps_sr_pg1_1?ie=UTF8&adId=A080421727U4LF9HH4QHU&url=%2FColorful-OnePlus-Ultra-Thin-Premium-Material%2Fdp%2FB07XXRZFL8%2Fref%3Dsr_1_9_sspa%3Fkeywords%3Doneplus%2B7t%26qid%3D1570646486%26sr%3D8-9-spons%26psc%3D1&qualifier=1570646485&id=8566210519729588&widgetName=sp_mtf\n",
      "https://www.amazon.com/gp/slredirect/picassoRedirect.html/ref=pa_sp_mtf_aps_sr_pg1_2?ie=UTF8&adId=A06733252BLH3NDLAGVS5&url=%2FPack-OnePlus-Screen-Protector-Definition%2Fdp%2FB07XCT1KKK%2Fref%3Dsr_1_10_sspa%3Fkeywords%3Doneplus%2B7t%26qid%3D1570646486%26sr%3D8-10-spons%26psc%3D1&qualifier=1570646485&id=8566210519729588&widgetName=sp_mtf\n",
      "https://advertising.amazon.com/products-self-serve?ref_=ext_amzn_wtsp\n",
      "https://www.amazon.com/s?k=oneplus+7t&ref=nb_sb_noss_1#\n",
      "https://www.amazon.com/gp/slredirect/picassoRedirect.html/ref=pa_sp_mtf_aps_sr_pg1_2?ie=UTF8&adId=A06733252BLH3NDLAGVS5&url=%2FPack-OnePlus-Screen-Protector-Definition%2Fdp%2FB07XCT1KKK%2Fref%3Dsr_1_10_sspa%3Fkeywords%3Doneplus%2B7t%26qid%3D1570646486%26sr%3D8-10-spons%26psc%3D1&qualifier=1570646485&id=8566210519729588&widgetName=sp_mtf\n",
      "https://www.amazon.com/gp/slredirect/picassoRedirect.html/ref=pa_sp_mtf_aps_sr_pg1_2?ie=UTF8&adId=A06733252BLH3NDLAGVS5&url=%2FPack-OnePlus-Screen-Protector-Definition%2Fdp%2FB07XCT1KKK%2Fref%3Dsr_1_10_sspa%3Fkeywords%3Doneplus%2B7t%26qid%3D1570646486%26sr%3D8-10-spons%26psc%3D1&qualifier=1570646485&id=8566210519729588&widgetName=sp_mtf#customerReviews\n",
      "https://www.amazon.com/gp/slredirect/picassoRedirect.html/ref=pa_sp_mtf_aps_sr_pg1_2?ie=UTF8&adId=A06733252BLH3NDLAGVS5&url=%2FPack-OnePlus-Screen-Protector-Definition%2Fdp%2FB07XCT1KKK%2Fref%3Dsr_1_10_sspa%3Fkeywords%3Doneplus%2B7t%26qid%3D1570646486%26sr%3D8-10-spons%26psc%3D1&qualifier=1570646485&id=8566210519729588&widgetName=sp_mtf\n",
      "https://www.amazon.com/Moto-Alexa-Hands-Free-camera-included/dp/B07N9255CG/ref=sr_1_11?keywords=oneplus+7t&qid=1570646486&sr=8-11\n",
      "https://www.amazon.com/Moto-Alexa-Hands-Free-camera-included/dp/B07N9255CG/ref=sr_1_11?keywords=oneplus+7t&qid=1570646486&sr=8-11\n",
      "https://www.amazon.com/Moto-Alexa-Hands-Free-camera-included/dp/B07N9255CG/ref=sr_1_11?keywords=oneplus+7t&qid=1570646486&sr=8-11#customerReviews\n",
      "https://www.amazon.com/Moto-Alexa-Hands-Free-camera-included/dp/B07N9255CG/ref=sr_1_11?keywords=oneplus+7t&qid=1570646486&sr=8-11\n",
      "https://www.amazon.com/gp/offer-listing/B07N9255CG\n",
      "https://www.amazon.com/ASUS-ZenFone-5Z-ZS620KL-S845-6G64G-2160x1080/dp/B07CLWGC3T/ref=sr_1_12?keywords=oneplus+7t&qid=1570646486&sr=8-12\n",
      "https://www.amazon.com/ASUS-ZenFone-5Z-ZS620KL-S845-6G64G-2160x1080/dp/B07CLWGC3T/ref=sr_1_12?keywords=oneplus+7t&qid=1570646486&sr=8-12\n",
      "https://www.amazon.com/ASUS-ZenFone-5Z-ZS620KL-S845-6G64G-2160x1080/dp/B07CLWGC3T/ref=sr_1_12?keywords=oneplus+7t&qid=1570646486&sr=8-12#customerReviews\n",
      "https://www.amazon.com/ASUS-ZenFone-5Z-ZS620KL-S845-6G64G-2160x1080/dp/B07CLWGC3T/ref=sr_1_12?keywords=oneplus+7t&qid=1570646486&sr=8-12\n",
      "https://www.amazon.com/OnePlus-Unlocked-International-Warranty-Midnight/dp/B07Q1K5VHS/ref=sr_1_13?keywords=oneplus+7t&qid=1570646486&sr=8-13\n",
      "https://www.amazon.com/OnePlus-Unlocked-International-Warranty-Midnight/dp/B07Q1K5VHS/ref=sr_1_13?keywords=oneplus+7t&qid=1570646486&sr=8-13\n",
      "https://www.amazon.com/OnePlus-Unlocked-International-Warranty-Midnight/dp/B07Q1K5VHS/ref=sr_1_13?keywords=oneplus+7t&qid=1570646486&sr=8-13#customerReviews\n",
      "https://www.amazon.com/OnePlus-Unlocked-International-Warranty-Midnight/dp/B07Q1K5VHS/ref=sr_1_13?keywords=oneplus+7t&qid=1570646486&sr=8-13\n",
      "https://www.amazon.com/OnePlus-Unlocked-International-Model-GSM-Networks/dp/B07SNFSS4L/ref=sr_1_14?keywords=oneplus+7t&qid=1570646486&sr=8-14\n",
      "https://www.amazon.com/OnePlus-Unlocked-International-Model-GSM-Networks/dp/B07SNFSS4L/ref=sr_1_14?keywords=oneplus+7t&qid=1570646486&sr=8-14\n",
      "https://www.amazon.com/OnePlus-Unlocked-International-Model-GSM-Networks/dp/B07SNFSS4L/ref=sr_1_14?keywords=oneplus+7t&qid=1570646486&sr=8-14#customerReviews\n",
      "https://www.amazon.com/OnePlus-Unlocked-International-Model-GSM-Networks/dp/B07SNFSS4L/ref=sr_1_14?keywords=oneplus+7t&qid=1570646486&sr=8-14\n",
      "https://www.amazon.com/Colorful-OnePlus-Ultra-Thin-Premium-Material/dp/B07XXS81MN/ref=sr_1_15?keywords=oneplus+7t&qid=1570646486&sr=8-15\n",
      "https://www.amazon.com/Colorful-OnePlus-Ultra-Thin-Premium-Material/dp/B07XXS81MN/ref=sr_1_15?keywords=oneplus+7t&qid=1570646486&sr=8-15\n",
      "https://www.amazon.com/Colorful-OnePlus-Ultra-Thin-Premium-Material/dp/B07XXS81MN/ref=sr_1_15?keywords=oneplus+7t&qid=1570646486&sr=8-15\n",
      "https://www.amazon.com/Pack-OnePlus-Screen-Protector-Definition/dp/B07XCT1KKK/ref=sr_1_16?keywords=oneplus+7t&qid=1570646486&sr=8-16\n",
      "https://www.amazon.com/Pack-OnePlus-Screen-Protector-Definition/dp/B07XCT1KKK/ref=sr_1_16?keywords=oneplus+7t&qid=1570646486&sr=8-16\n",
      "https://www.amazon.com/Pack-OnePlus-Screen-Protector-Definition/dp/B07XCT1KKK/ref=sr_1_16?keywords=oneplus+7t&qid=1570646486&sr=8-16#customerReviews\n",
      "https://www.amazon.com/Pack-OnePlus-Screen-Protector-Definition/dp/B07XCT1KKK/ref=sr_1_16?keywords=oneplus+7t&qid=1570646486&sr=8-16\n",
      "https://www.amazon.com/Protector-SPARIN-Tempered-Definition-Resistance/dp/B07XBQC3LK/ref=sr_1_17?keywords=oneplus+7t&qid=1570646486&sr=8-17\n",
      "https://www.amazon.com/Protector-SPARIN-Tempered-Definition-Resistance/dp/B07XBQC3LK/ref=sr_1_17?keywords=oneplus+7t&qid=1570646486&sr=8-17\n",
      "https://www.amazon.com/Protector-SPARIN-Tempered-Definition-Resistance/dp/B07XBQC3LK/ref=sr_1_17?keywords=oneplus+7t&qid=1570646486&sr=8-17\n",
      "https://www.amazon.com/PULEN-Protector-Anti-Scratch-Hardness-Replacement/dp/B07R1Q3LTY/ref=sr_1_18?keywords=oneplus+7t&qid=1570646486&sr=8-18\n",
      "https://www.amazon.com/PULEN-Protector-Anti-Scratch-Hardness-Replacement/dp/B07R1Q3LTY/ref=sr_1_18?keywords=oneplus+7t&qid=1570646486&sr=8-18\n"
     ]
    },
    {
     "name": "stdout",
     "output_type": "stream",
     "text": [
      "https://www.amazon.com/PULEN-Protector-Anti-Scratch-Hardness-Replacement/dp/B07R1Q3LTY/ref=sr_1_18?keywords=oneplus+7t&qid=1570646486&sr=8-18#customerReviews\n",
      "https://www.amazon.com/PULEN-Protector-Anti-Scratch-Hardness-Replacement/dp/B07R1Q3LTY/ref=sr_1_18?keywords=oneplus+7t&qid=1570646486&sr=8-18\n",
      "https://www.amazon.com/gp/slredirect/picassoRedirect.html/ref=pa_sp_btf_aps_sr_pg1_1?ie=UTF8&adId=A09865291U08NQKMHKZ7V&url=%2FOnePlus-Almiao-Ultra-Thin-Minimalist-Protective%2Fdp%2FB07Y4DXV3W%2Fref%3Dsr_1_19_sspa%3Fkeywords%3Doneplus%2B7t%26qid%3D1570646486%26sr%3D8-19-spons%26psc%3D1&qualifier=1570646485&id=8566210519729588&widgetName=sp_btf\n",
      "https://advertising.amazon.com/products-self-serve?ref_=ext_amzn_wtsp\n",
      "https://www.amazon.com/s?k=oneplus+7t&ref=nb_sb_noss_1#\n",
      "https://www.amazon.com/gp/slredirect/picassoRedirect.html/ref=pa_sp_btf_aps_sr_pg1_1?ie=UTF8&adId=A09865291U08NQKMHKZ7V&url=%2FOnePlus-Almiao-Ultra-Thin-Minimalist-Protective%2Fdp%2FB07Y4DXV3W%2Fref%3Dsr_1_19_sspa%3Fkeywords%3Doneplus%2B7t%26qid%3D1570646486%26sr%3D8-19-spons%26psc%3D1&qualifier=1570646485&id=8566210519729588&widgetName=sp_btf\n",
      "https://www.amazon.com/gp/slredirect/picassoRedirect.html/ref=pa_sp_btf_aps_sr_pg1_1?ie=UTF8&adId=A09865291U08NQKMHKZ7V&url=%2FOnePlus-Almiao-Ultra-Thin-Minimalist-Protective%2Fdp%2FB07Y4DXV3W%2Fref%3Dsr_1_19_sspa%3Fkeywords%3Doneplus%2B7t%26qid%3D1570646486%26sr%3D8-19-spons%26psc%3D1&qualifier=1570646485&id=8566210519729588&widgetName=sp_btf\n",
      "https://www.amazon.com/gp/slredirect/picassoRedirect.html/ref=pa_sp_btf_aps_sr_pg1_2?ie=UTF8&adId=A08082841CTBTBXVOLSRF&url=%2FRhinoShield-SolidSuit-Absorbent-Protective-Protection%2Fdp%2FB07S6NG5PM%2Fref%3Dsr_1_20_sspa%3Fkeywords%3Doneplus%2B7t%26qid%3D1570646486%26sr%3D8-20-spons%26psc%3D1&qualifier=1570646485&id=8566210519729588&widgetName=sp_btf\n",
      "https://advertising.amazon.com/products-self-serve?ref_=ext_amzn_wtsp\n",
      "https://www.amazon.com/s?k=oneplus+7t&ref=nb_sb_noss_1#\n",
      "https://www.amazon.com/gp/slredirect/picassoRedirect.html/ref=pa_sp_btf_aps_sr_pg1_2?ie=UTF8&adId=A08082841CTBTBXVOLSRF&url=%2FRhinoShield-SolidSuit-Absorbent-Protective-Protection%2Fdp%2FB07S6NG5PM%2Fref%3Dsr_1_20_sspa%3Fkeywords%3Doneplus%2B7t%26qid%3D1570646486%26sr%3D8-20-spons%26psc%3D1&qualifier=1570646485&id=8566210519729588&widgetName=sp_btf\n",
      "https://www.amazon.com/gp/slredirect/picassoRedirect.html/ref=pa_sp_btf_aps_sr_pg1_2?ie=UTF8&adId=A08082841CTBTBXVOLSRF&url=%2FRhinoShield-SolidSuit-Absorbent-Protective-Protection%2Fdp%2FB07S6NG5PM%2Fref%3Dsr_1_20_sspa%3Fkeywords%3Doneplus%2B7t%26qid%3D1570646486%26sr%3D8-20-spons%26psc%3D1&qualifier=1570646485&id=8566210519729588&widgetName=sp_btf#customerReviews\n",
      "https://www.amazon.com/gp/slredirect/picassoRedirect.html/ref=pa_sp_btf_aps_sr_pg1_2?ie=UTF8&adId=A08082841CTBTBXVOLSRF&url=%2FRhinoShield-SolidSuit-Absorbent-Protective-Protection%2Fdp%2FB07S6NG5PM%2Fref%3Dsr_1_20_sspa%3Fkeywords%3Doneplus%2B7t%26qid%3D1570646486%26sr%3D8-20-spons%26psc%3D1&qualifier=1570646485&id=8566210519729588&widgetName=sp_btf\n",
      "https://www.amazon.com/gp/slredirect/picassoRedirect.html/ref=pa_sp_btf_aps_sr_pg1_3?ie=UTF8&adId=A023913333ES3MWQ7A1ZL&url=%2FRhinoShield-CrashGuard-Absorbent-Protective-Protection%2Fdp%2FB07S9RVTWF%2Fref%3Dsr_1_21_sspa%3Fkeywords%3Doneplus%2B7t%26qid%3D1570646486%26sr%3D8-21-spons%26psc%3D1&qualifier=1570646485&id=8566210519729588&widgetName=sp_btf\n",
      "https://advertising.amazon.com/products-self-serve?ref_=ext_amzn_wtsp\n",
      "https://www.amazon.com/s?k=oneplus+7t&ref=nb_sb_noss_1#\n",
      "https://www.amazon.com/gp/slredirect/picassoRedirect.html/ref=pa_sp_btf_aps_sr_pg1_3?ie=UTF8&adId=A023913333ES3MWQ7A1ZL&url=%2FRhinoShield-CrashGuard-Absorbent-Protective-Protection%2Fdp%2FB07S9RVTWF%2Fref%3Dsr_1_21_sspa%3Fkeywords%3Doneplus%2B7t%26qid%3D1570646486%26sr%3D8-21-spons%26psc%3D1&qualifier=1570646485&id=8566210519729588&widgetName=sp_btf\n",
      "https://www.amazon.com/gp/slredirect/picassoRedirect.html/ref=pa_sp_btf_aps_sr_pg1_3?ie=UTF8&adId=A023913333ES3MWQ7A1ZL&url=%2FRhinoShield-CrashGuard-Absorbent-Protective-Protection%2Fdp%2FB07S9RVTWF%2Fref%3Dsr_1_21_sspa%3Fkeywords%3Doneplus%2B7t%26qid%3D1570646486%26sr%3D8-21-spons%26psc%3D1&qualifier=1570646485&id=8566210519729588&widgetName=sp_btf#customerReviews\n",
      "https://www.amazon.com/gp/slredirect/picassoRedirect.html/ref=pa_sp_btf_aps_sr_pg1_3?ie=UTF8&adId=A023913333ES3MWQ7A1ZL&url=%2FRhinoShield-CrashGuard-Absorbent-Protective-Protection%2Fdp%2FB07S9RVTWF%2Fref%3Dsr_1_21_sspa%3Fkeywords%3Doneplus%2B7t%26qid%3D1570646486%26sr%3D8-21-spons%26psc%3D1&qualifier=1570646485&id=8566210519729588&widgetName=sp_btf\n",
      "https://www.amazon.com/gp/slredirect/picassoRedirect.html/ref=pa_sp_btf_aps_sr_pg1_4?ie=UTF8&adId=A07537452AE02Q8A9DQKY&url=%2FOnePlus-Almiao-Ultra-Thin-Minimalist-Protective%2Fdp%2FB07Y4VHSFF%2Fref%3Dsr_1_22_sspa%3Fkeywords%3Doneplus%2B7t%26qid%3D1570646486%26sr%3D8-22-spons%26psc%3D1&qualifier=1570646485&id=8566210519729588&widgetName=sp_btf\n",
      "https://advertising.amazon.com/products-self-serve?ref_=ext_amzn_wtsp\n",
      "https://www.amazon.com/s?k=oneplus+7t&ref=nb_sb_noss_1#\n",
      "https://www.amazon.com/gp/slredirect/picassoRedirect.html/ref=pa_sp_btf_aps_sr_pg1_4?ie=UTF8&adId=A07537452AE02Q8A9DQKY&url=%2FOnePlus-Almiao-Ultra-Thin-Minimalist-Protective%2Fdp%2FB07Y4VHSFF%2Fref%3Dsr_1_22_sspa%3Fkeywords%3Doneplus%2B7t%26qid%3D1570646486%26sr%3D8-22-spons%26psc%3D1&qualifier=1570646485&id=8566210519729588&widgetName=sp_btf\n",
      "https://www.amazon.com/gp/slredirect/picassoRedirect.html/ref=pa_sp_btf_aps_sr_pg1_4?ie=UTF8&adId=A07537452AE02Q8A9DQKY&url=%2FOnePlus-Almiao-Ultra-Thin-Minimalist-Protective%2Fdp%2FB07Y4VHSFF%2Fref%3Dsr_1_22_sspa%3Fkeywords%3Doneplus%2B7t%26qid%3D1570646486%26sr%3D8-22-spons%26psc%3D1&qualifier=1570646485&id=8566210519729588&widgetName=sp_btf\n",
      "https://www.amazon.com/s/?k=oneplus+7t+pro&ref=sugsr_0&pd_rd_w=CSMhL&pf_rd_p=7be70e42-b5c0-4077-873a-35a472a6fbd4&pf_rd_r=GDWNZNBEYPC55GHGM9MM&pd_rd_r=a4cf0659-cf29-4df5-8f0a-6e32e6c57a29&pd_rd_wg=gzED3&qid=1570646486\n",
      "https://www.amazon.com/s/?k=oneplus+7t+pro&ref=sugsr_0&pd_rd_w=CSMhL&pf_rd_p=7be70e42-b5c0-4077-873a-35a472a6fbd4&pf_rd_r=GDWNZNBEYPC55GHGM9MM&pd_rd_r=a4cf0659-cf29-4df5-8f0a-6e32e6c57a29&pd_rd_wg=gzED3&qid=1570646486\n",
      "https://www.amazon.com/s/?k=oneplus+7t+pro+phone&ref=sugsr_1&pd_rd_w=CSMhL&pf_rd_p=7be70e42-b5c0-4077-873a-35a472a6fbd4&pf_rd_r=GDWNZNBEYPC55GHGM9MM&pd_rd_r=a4cf0659-cf29-4df5-8f0a-6e32e6c57a29&pd_rd_wg=gzED3&qid=1570646486\n",
      "https://www.amazon.com/s/?k=oneplus+7t+pro+phone&ref=sugsr_1&pd_rd_w=CSMhL&pf_rd_p=7be70e42-b5c0-4077-873a-35a472a6fbd4&pf_rd_r=GDWNZNBEYPC55GHGM9MM&pd_rd_r=a4cf0659-cf29-4df5-8f0a-6e32e6c57a29&pd_rd_wg=gzED3&qid=1570646486\n",
      "https://www.amazon.com/s/?k=oneplus+7&ref=sugsr_2&pd_rd_w=CSMhL&pf_rd_p=7be70e42-b5c0-4077-873a-35a472a6fbd4&pf_rd_r=GDWNZNBEYPC55GHGM9MM&pd_rd_r=a4cf0659-cf29-4df5-8f0a-6e32e6c57a29&pd_rd_wg=gzED3&qid=1570646486\n",
      "https://www.amazon.com/s/?k=oneplus+7&ref=sugsr_2&pd_rd_w=CSMhL&pf_rd_p=7be70e42-b5c0-4077-873a-35a472a6fbd4&pf_rd_r=GDWNZNBEYPC55GHGM9MM&pd_rd_r=a4cf0659-cf29-4df5-8f0a-6e32e6c57a29&pd_rd_wg=gzED3&qid=1570646486\n",
      "https://www.amazon.com/s/?k=oneplus+7+pro&ref=sugsr_3&pd_rd_w=CSMhL&pf_rd_p=7be70e42-b5c0-4077-873a-35a472a6fbd4&pf_rd_r=GDWNZNBEYPC55GHGM9MM&pd_rd_r=a4cf0659-cf29-4df5-8f0a-6e32e6c57a29&pd_rd_wg=gzED3&qid=1570646486\n",
      "https://www.amazon.com/s/?k=oneplus+7+pro&ref=sugsr_3&pd_rd_w=CSMhL&pf_rd_p=7be70e42-b5c0-4077-873a-35a472a6fbd4&pf_rd_r=GDWNZNBEYPC55GHGM9MM&pd_rd_r=a4cf0659-cf29-4df5-8f0a-6e32e6c57a29&pd_rd_wg=gzED3&qid=1570646486\n",
      "https://www.amazon.com/s/?k=one+plus+7t&ref=sugsr_4&pd_rd_w=CSMhL&pf_rd_p=7be70e42-b5c0-4077-873a-35a472a6fbd4&pf_rd_r=GDWNZNBEYPC55GHGM9MM&pd_rd_r=a4cf0659-cf29-4df5-8f0a-6e32e6c57a29&pd_rd_wg=gzED3&qid=1570646486\n",
      "https://www.amazon.com/s/?k=one+plus+7t&ref=sugsr_4&pd_rd_w=CSMhL&pf_rd_p=7be70e42-b5c0-4077-873a-35a472a6fbd4&pf_rd_r=GDWNZNBEYPC55GHGM9MM&pd_rd_r=a4cf0659-cf29-4df5-8f0a-6e32e6c57a29&pd_rd_wg=gzED3&qid=1570646486\n",
      "https://www.amazon.com/s/?k=oneplus+7+t&ref=sugsr_5&pd_rd_w=CSMhL&pf_rd_p=7be70e42-b5c0-4077-873a-35a472a6fbd4&pf_rd_r=GDWNZNBEYPC55GHGM9MM&pd_rd_r=a4cf0659-cf29-4df5-8f0a-6e32e6c57a29&pd_rd_wg=gzED3&qid=1570646486\n",
      "https://www.amazon.com/s/?k=oneplus+7+t&ref=sugsr_5&pd_rd_w=CSMhL&pf_rd_p=7be70e42-b5c0-4077-873a-35a472a6fbd4&pf_rd_r=GDWNZNBEYPC55GHGM9MM&pd_rd_r=a4cf0659-cf29-4df5-8f0a-6e32e6c57a29&pd_rd_wg=gzED3&qid=1570646486\n"
     ]
    },
    {
     "name": "stdout",
     "output_type": "stream",
     "text": [
      "https://www.amazon.com/s/?k=oneplus+6t&ref=sugsr_6&pd_rd_w=CSMhL&pf_rd_p=7be70e42-b5c0-4077-873a-35a472a6fbd4&pf_rd_r=GDWNZNBEYPC55GHGM9MM&pd_rd_r=a4cf0659-cf29-4df5-8f0a-6e32e6c57a29&pd_rd_wg=gzED3&qid=1570646486\n",
      "https://www.amazon.com/s/?k=oneplus+6t&ref=sugsr_6&pd_rd_w=CSMhL&pf_rd_p=7be70e42-b5c0-4077-873a-35a472a6fbd4&pf_rd_r=GDWNZNBEYPC55GHGM9MM&pd_rd_r=a4cf0659-cf29-4df5-8f0a-6e32e6c57a29&pd_rd_wg=gzED3&qid=1570646486\n",
      "https://www.amazon.com/s/?k=oneplus&ref=sugsr_7&pd_rd_w=CSMhL&pf_rd_p=7be70e42-b5c0-4077-873a-35a472a6fbd4&pf_rd_r=GDWNZNBEYPC55GHGM9MM&pd_rd_r=a4cf0659-cf29-4df5-8f0a-6e32e6c57a29&pd_rd_wg=gzED3&qid=1570646486\n",
      "https://www.amazon.com/s/?k=oneplus&ref=sugsr_7&pd_rd_w=CSMhL&pf_rd_p=7be70e42-b5c0-4077-873a-35a472a6fbd4&pf_rd_r=GDWNZNBEYPC55GHGM9MM&pd_rd_r=a4cf0659-cf29-4df5-8f0a-6e32e6c57a29&pd_rd_wg=gzED3&qid=1570646486\n",
      "https://www.amazon.com/s?k=oneplus+7t&ref=nb_sb_noss_1#\n",
      "https://www.amazon.com/s?k=oneplus+7t&ref=nb_sb_noss_1#\n",
      "https://www.amazon.com/s?k=oneplus+7t&ref=nb_sb_noss_1#s-skipLinkTargetForFilterOptions\n",
      "https://www.amazon.com/gp/help/customer/display.html?nodeId=468556\n",
      "https://www.amazon.com/gp/help/customer/contact-us\n",
      "https://www.amazon.com/product-reviews/B07SD7Z3J7/ref=acr_search_hist_5??ie=UTF8&filterByStar=five_star&showViewpoints=0\n",
      "https://www.amazon.com/product-reviews/B07SD7Z3J7/ref=acr_search_hist_5??ie=UTF8&filterByStar=five_star&showViewpoints=0\n",
      "https://www.amazon.com/product-reviews/B07SD7Z3J7/ref=acr_search_hist_4??ie=UTF8&filterByStar=four_star&showViewpoints=0\n",
      "https://www.amazon.com/product-reviews/B07SD7Z3J7/ref=acr_search_hist_4??ie=UTF8&filterByStar=four_star&showViewpoints=0\n",
      "https://www.amazon.com/product-reviews/B07SD7Z3J7/ref=acr_search_hist_3??ie=UTF8&filterByStar=three_star&showViewpoints=0\n",
      "https://www.amazon.com/product-reviews/B07SD7Z3J7/ref=acr_search_hist_3??ie=UTF8&filterByStar=three_star&showViewpoints=0\n",
      "https://www.amazon.com/product-reviews/B07SD7Z3J7/ref=acr_search_hist_1??ie=UTF8&filterByStar=one_star&showViewpoints=0\n",
      "https://www.amazon.com/product-reviews/B07SD7Z3J7/ref=acr_search_hist_1??ie=UTF8&filterByStar=one_star&showViewpoints=0\n"
     ]
    }
   ],
   "source": [
    "for element in browser.find_elements_by_class_name(\"a-link-normal\"):\n",
    "    print(element.get_attribute('href'))"
   ]
  },
  {
   "cell_type": "code",
   "execution_count": 22,
   "metadata": {},
   "outputs": [
    {
     "name": "stdout",
     "output_type": "stream",
     "text": [
      "438\n",
      "604\n",
      "399\n",
      "319\n",
      "444\n",
      "829\n",
      "339\n",
      "309\n",
      "12\n",
      "9\n",
      "489\n",
      "349\n",
      "339\n",
      "559\n",
      "12\n",
      "9\n",
      "9\n",
      "8\n",
      "11\n",
      "34\n",
      "24\n",
      "11\n"
     ]
    }
   ],
   "source": [
    "for element in browser.find_elements_by_class_name(\"a-price-whole\"):\n",
    "    print(element.text)"
   ]
  },
  {
   "cell_type": "code",
   "execution_count": 73,
   "metadata": {},
   "outputs": [
    {
     "ename": "NoSuchWindowException",
     "evalue": "Message: no such window: target window already closed\nfrom unknown error: web view not found\n  (Session info: chrome=77.0.3865.90)\n",
     "output_type": "error",
     "traceback": [
      "\u001b[0;31m-----------------------------------------------\u001b[0m",
      "\u001b[0;31mNoSuchWindowException\u001b[0mTraceback (most recent call last)",
      "\u001b[0;32m<ipython-input-73-d836b8a2b4da>\u001b[0m in \u001b[0;36m<module>\u001b[0;34m\u001b[0m\n\u001b[0;32m----> 1\u001b[0;31m \u001b[0mbrowser\u001b[0m\u001b[0;34m.\u001b[0m\u001b[0mclose\u001b[0m\u001b[0;34m(\u001b[0m\u001b[0;34m)\u001b[0m\u001b[0;34m\u001b[0m\u001b[0m\n\u001b[0m",
      "\u001b[0;32m~/anaconda3/envs/flatiron-env/lib/python3.6/site-packages/selenium/webdriver/remote/webdriver.py\u001b[0m in \u001b[0;36mclose\u001b[0;34m(self)\u001b[0m\n\u001b[1;32m    686\u001b[0m             \u001b[0mdriver\u001b[0m\u001b[0;34m.\u001b[0m\u001b[0mclose\u001b[0m\u001b[0;34m(\u001b[0m\u001b[0;34m)\u001b[0m\u001b[0;34m\u001b[0m\u001b[0m\n\u001b[1;32m    687\u001b[0m         \"\"\"\n\u001b[0;32m--> 688\u001b[0;31m         \u001b[0mself\u001b[0m\u001b[0;34m.\u001b[0m\u001b[0mexecute\u001b[0m\u001b[0;34m(\u001b[0m\u001b[0mCommand\u001b[0m\u001b[0;34m.\u001b[0m\u001b[0mCLOSE\u001b[0m\u001b[0;34m)\u001b[0m\u001b[0;34m\u001b[0m\u001b[0m\n\u001b[0m\u001b[1;32m    689\u001b[0m \u001b[0;34m\u001b[0m\u001b[0m\n\u001b[1;32m    690\u001b[0m     \u001b[0;32mdef\u001b[0m \u001b[0mquit\u001b[0m\u001b[0;34m(\u001b[0m\u001b[0mself\u001b[0m\u001b[0;34m)\u001b[0m\u001b[0;34m:\u001b[0m\u001b[0;34m\u001b[0m\u001b[0m\n",
      "\u001b[0;32m~/anaconda3/envs/flatiron-env/lib/python3.6/site-packages/selenium/webdriver/remote/webdriver.py\u001b[0m in \u001b[0;36mexecute\u001b[0;34m(self, driver_command, params)\u001b[0m\n\u001b[1;32m    319\u001b[0m         \u001b[0mresponse\u001b[0m \u001b[0;34m=\u001b[0m \u001b[0mself\u001b[0m\u001b[0;34m.\u001b[0m\u001b[0mcommand_executor\u001b[0m\u001b[0;34m.\u001b[0m\u001b[0mexecute\u001b[0m\u001b[0;34m(\u001b[0m\u001b[0mdriver_command\u001b[0m\u001b[0;34m,\u001b[0m \u001b[0mparams\u001b[0m\u001b[0;34m)\u001b[0m\u001b[0;34m\u001b[0m\u001b[0m\n\u001b[1;32m    320\u001b[0m         \u001b[0;32mif\u001b[0m \u001b[0mresponse\u001b[0m\u001b[0;34m:\u001b[0m\u001b[0;34m\u001b[0m\u001b[0m\n\u001b[0;32m--> 321\u001b[0;31m             \u001b[0mself\u001b[0m\u001b[0;34m.\u001b[0m\u001b[0merror_handler\u001b[0m\u001b[0;34m.\u001b[0m\u001b[0mcheck_response\u001b[0m\u001b[0;34m(\u001b[0m\u001b[0mresponse\u001b[0m\u001b[0;34m)\u001b[0m\u001b[0;34m\u001b[0m\u001b[0m\n\u001b[0m\u001b[1;32m    322\u001b[0m             response['value'] = self._unwrap_value(\n\u001b[1;32m    323\u001b[0m                 response.get('value', None))\n",
      "\u001b[0;32m~/anaconda3/envs/flatiron-env/lib/python3.6/site-packages/selenium/webdriver/remote/errorhandler.py\u001b[0m in \u001b[0;36mcheck_response\u001b[0;34m(self, response)\u001b[0m\n\u001b[1;32m    240\u001b[0m                 \u001b[0malert_text\u001b[0m \u001b[0;34m=\u001b[0m \u001b[0mvalue\u001b[0m\u001b[0;34m[\u001b[0m\u001b[0;34m'alert'\u001b[0m\u001b[0;34m]\u001b[0m\u001b[0;34m.\u001b[0m\u001b[0mget\u001b[0m\u001b[0;34m(\u001b[0m\u001b[0;34m'text'\u001b[0m\u001b[0;34m)\u001b[0m\u001b[0;34m\u001b[0m\u001b[0m\n\u001b[1;32m    241\u001b[0m             \u001b[0;32mraise\u001b[0m \u001b[0mexception_class\u001b[0m\u001b[0;34m(\u001b[0m\u001b[0mmessage\u001b[0m\u001b[0;34m,\u001b[0m \u001b[0mscreen\u001b[0m\u001b[0;34m,\u001b[0m \u001b[0mstacktrace\u001b[0m\u001b[0;34m,\u001b[0m \u001b[0malert_text\u001b[0m\u001b[0;34m)\u001b[0m\u001b[0;34m\u001b[0m\u001b[0m\n\u001b[0;32m--> 242\u001b[0;31m         \u001b[0;32mraise\u001b[0m \u001b[0mexception_class\u001b[0m\u001b[0;34m(\u001b[0m\u001b[0mmessage\u001b[0m\u001b[0;34m,\u001b[0m \u001b[0mscreen\u001b[0m\u001b[0;34m,\u001b[0m \u001b[0mstacktrace\u001b[0m\u001b[0;34m)\u001b[0m\u001b[0;34m\u001b[0m\u001b[0m\n\u001b[0m\u001b[1;32m    243\u001b[0m \u001b[0;34m\u001b[0m\u001b[0m\n\u001b[1;32m    244\u001b[0m     \u001b[0;32mdef\u001b[0m \u001b[0m_value_or_default\u001b[0m\u001b[0;34m(\u001b[0m\u001b[0mself\u001b[0m\u001b[0;34m,\u001b[0m \u001b[0mobj\u001b[0m\u001b[0;34m,\u001b[0m \u001b[0mkey\u001b[0m\u001b[0;34m,\u001b[0m \u001b[0mdefault\u001b[0m\u001b[0;34m)\u001b[0m\u001b[0;34m:\u001b[0m\u001b[0;34m\u001b[0m\u001b[0m\n",
      "\u001b[0;31mNoSuchWindowException\u001b[0m: Message: no such window: target window already closed\nfrom unknown error: web view not found\n  (Session info: chrome=77.0.3865.90)\n"
     ]
    }
   ],
   "source": [
    "browser.close()"
   ]
  },
  {
   "cell_type": "markdown",
   "metadata": {},
   "source": [
    "### Assessment"
   ]
  }
 ],
 "metadata": {
  "kernelspec": {
   "display_name": "Python 3",
   "language": "python",
   "name": "python3"
  },
  "language_info": {
   "codemirror_mode": {
    "name": "ipython",
    "version": 3
   },
   "file_extension": ".py",
   "mimetype": "text/x-python",
   "name": "python",
   "nbconvert_exporter": "python",
   "pygments_lexer": "ipython3",
   "version": "3.6.0"
  }
 },
 "nbformat": 4,
 "nbformat_minor": 2
}
